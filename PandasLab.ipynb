{
 "cells": [
  {
   "cell_type": "code",
   "execution_count": 20,
   "id": "51541c13-f90c-452a-be7c-7540dba94c1b",
   "metadata": {},
   "outputs": [
    {
     "name": "stdout",
     "output_type": "stream",
     "text": [
      "Electricity Usage:  \n",
      " January      350\n",
      "February     320\n",
      "March        310\n",
      "April        330\n",
      "May          340\n",
      "June         370\n",
      "July         380\n",
      "August       360\n",
      "September    350\n",
      "October      330\n",
      "November     320\n",
      "December     330\n",
      "Name: Electricity Usage (kWh), dtype: int64\n",
      "\n",
      " Gas Usage:  \n",
      " January      20\n",
      "February     18\n",
      "March        16\n",
      "April        15\n",
      "May          12\n",
      "June         10\n",
      "July          8\n",
      "August        9\n",
      "September    12\n",
      "October      15\n",
      "November     17\n",
      "December     19\n",
      "Name: Gas Usage (therms), dtype: int64\n"
     ]
    }
   ],
   "source": [
    "'''Suppose you want to track and analyze the monthly energy consumption in your home. You have recorded the monthly energy usage for electricity and \n",
    "gas over a year,and you want to represent this data using Pandas Series.'''\n",
    "\n",
    "import pandas as pd     #Importing the Pandas library as pd\n",
    "\n",
    "months=['January','February','March','April','May','June','July','August','September','October','November','December']     #Months in a year\n",
    "electricity_usage=[350,320,310,330,340,370,380,360,350,330,320,330]     #Monthly-energy consumption data of electricity usage in kilowatt-hours (kWh)\n",
    "gas_usage=[20,18,16,15,12,10,8,9,12,15,17,19]     #Monthly-energy consumption data of gas usage in therms\n",
    "\n",
    "#Generating the Pandas series for representing the electricity usage over a year\n",
    "elec_usage_series=pd.Series(electricity_usage,index=months,name='Electricity Usage (kWh)')     \n",
    "print('Electricity Usage: ',\"\\n\",elec_usage_series)     #Printing the Pandas series for electricity usage\n",
    "\n",
    "#Generating the Pandas series for representing the gas usage over a year\n",
    "gas_usage_series=pd.Series(gas_usage,index=months,name='Gas Usage (therms)')     \n",
    "print(\"\\n\",'Gas Usage: ',\"\\n\",gas_usage_series)     #Printing the Pandas series for gas usage"
   ]
  },
  {
   "cell_type": "markdown",
   "id": "5df54c65-c538-4987-b4ee-75d88cd77aca",
   "metadata": {},
   "source": [
    "From the electricity usage series over a year, we can infer that electricity usage starts in January at 350 kWh,thereby establishing a baseline for the subsequent months. Then, a slight decrease is observed in February with a usage of 320 kWh, which may indicate a reduction in consumption compared to January. Electricity usage continues to decrease in March, reaching 310 kWh and this declining trend suggests a potential decraese in energy trend. The consumption sees a slight uprise in April,reaching 330 kWh,which could be influenced by weather changing conditions. Usage remains relatively stable in May at 340 kWh,which indicates a consistent level of energy consumption.During the summer months, electricity usage increases, with June reaching 370 kWh.And the warmer temperatures and increased demand for cooling could contribute to this rise. July maintains a high level of consumption of 380 kWh, thus continuing the trend in June.Consumption decreases in August to 360 kWh, which could be influenced by changes in weather or seasonal activities.September sees a relatively stable to 350 kWh, which could suggest a predictable level of consumption. Slight decrease is seen in October,to 330 kWh,which is affected by seasonal transitions or changing eneergy needs.Consumption is realtively stable in November,to 320 kWh, continuing the trend observed in October.The year ends with a usage of 330 kWh,in December, which may reflect upon the consistent amount of consumption during the holiday season."
   ]
  },
  {
   "cell_type": "markdown",
   "id": "b16741e5-4a01-458f-9d62-ec4de3103600",
   "metadata": {},
   "source": [
    "From the gas usage series over a year, we can infer that gas usage starts in January at 20 therms,thereby establishing a baseline for the subsequent months.Then, a slight decrease is observed in February with a usage of 18 therms, which may indicate a reduction in consumption compared to January. Gas usage continues to decrease in March, reaching 16 therms and this declining trend suggests a potential decraese in gas demand. The consumption sees a further downfall in April,reaching 15 therms,which could be influenced by seasonal changes or efficiency measures.Further decreases is seen in May at 12 therms,which indicates a decrease in heating needs as the weather warms.June continues the decreasing trend with gas usage at 10 therms, and warmer temperatures might lead to reduced heating requirements.Gas consumption remains low in July,with the usage at 8 therms,as the summer months as the reduced heating systems.Consumption increases in August, with gas usage rising to 9 therms, which could be influenced by cooling needs or other seasonal factors.September sees a rise of the gas usage to 12 therms, which could suggest a potential rise in heating demands as the weather starts to cool. Consumption further increases in October,to 15 therms,which maybe associasted with the transition to cooler weather.Consumption further rises to 17 therms in November,where colder temperature plays a role to heating requirements.The year ends with an increased usage of 19 therms,in December, which could be influenced by the heating needs during the winter months."
   ]
  },
  {
   "cell_type": "code",
   "execution_count": 23,
   "id": "0419b6eb-5b16-46cb-a898-e4d1d996b98b",
   "metadata": {},
   "outputs": [
    {
     "name": "stdout",
     "output_type": "stream",
     "text": [
      "January      5000\n",
      "February     5200\n",
      "March        4800\n",
      "April        5400\n",
      "May          5600\n",
      "June         5800\n",
      "July         6100\n",
      "August       5900\n",
      "September    6200\n",
      "October      6500\n",
      "November     7000\n",
      "December     6900\n",
      "Name: Monthly Advertising Revenue (USD), dtype: int64\n"
     ]
    }
   ],
   "source": [
    "'''Suppose you are managing a website and want to analyze the monthly revenue generated from advertising. You have recorded the monthly revenue for the \n",
    "past year, and you want to represent this data using a Pandas Series.'''\n",
    "\n",
    "#Importing the Pandas library as pd\n",
    "import pandas as pd\n",
    "#Months in a year\n",
    "months=['January','February','March','April','May','June','July','August','September','October','November','December']\n",
    "#Monthly advertising revenue data in USD\n",
    "revenue = [5000, 5200, 4800, 5400, 5600, 5800, 6100, 5900, 6200, 6500, 7000, 6900]\n",
    "#Generating the Pandas series for representing the monthly advertising revenue over a year\n",
    "revenue_series=pd.Series(revenue,index=months,name='Monthly Advertising Revenue (USD)')\n",
    "#Printing the Pandas series for revenue data over a year\n",
    "print(revenue_series)"
   ]
  },
  {
   "cell_type": "markdown",
   "id": "fd2ea488-89e0-4f6f-b67f-483f8eff4239",
   "metadata": {},
   "source": [
    "From the monthly advertising revenue series over a year, we can infer that revenue starts in January at $5000,setting the initial baseline.Then, a slight increase is observed in revenue in February,reaching $5200. Revenues decrease in March, dropping to $4800. The revenue sees a further increment in April,reaching $5400,which maybe indicative of improved business performance.May continues the popsitive trend with revenue at $5600, whih suggests sustained growth.June exhibits furher growth, with revenue at $5800.Revenue sees a substantial increase in July,reaching $6100,which suggests sustained growth.August shows a slight decrease in revenue, with earnings at $5900.Revenue rebounds in September,reaching $6200. Revenue further increases in October,with revenue at $6500.Revenue further increases to $7000 in November,which maybe associated with holiday season sales or other business promotions.The year ends with sustained high revenue,reaching $6900."
   ]
  }
 ],
 "metadata": {
  "kernelspec": {
   "display_name": "Python 3 (ipykernel)",
   "language": "python",
   "name": "python3"
  },
  "language_info": {
   "codemirror_mode": {
    "name": "ipython",
    "version": 3
   },
   "file_extension": ".py",
   "mimetype": "text/x-python",
   "name": "python",
   "nbconvert_exporter": "python",
   "pygments_lexer": "ipython3",
   "version": "3.11.5"
  }
 },
 "nbformat": 4,
 "nbformat_minor": 5
}
