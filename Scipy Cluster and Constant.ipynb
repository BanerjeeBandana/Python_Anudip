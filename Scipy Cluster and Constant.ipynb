{
 "cells": [
  {
   "cell_type": "code",
   "execution_count": 44,
   "id": "9b8dd980-1879-4420-9ec5-a7235a9e5c54",
   "metadata": {},
   "outputs": [
    {
     "name": "stdout",
     "output_type": "stream",
     "text": [
      "  CircleName    Radius        Area\n",
      "0        SAY  3.798717   45.333960\n",
      "1        PSN  9.958397  311.550720\n",
      "2        JDP  5.142711   83.087197\n",
      "3        AUO  3.319584   34.619210\n",
      "4        OHG  1.138395    4.071325\n"
     ]
    }
   ],
   "source": [
    "'''Write a python program to read the radius from the below .csv file and then Calculate the Area of a Circle using SciPy Constants. After that display\n",
    "the first 5 records and also save the calculated result into a new .csv file.'''\n",
    "\n",
    "import scipy     #Importing Scipy library\n",
    "import pandas as pd     #Importing pandas library as pd\n",
    "from scipy import constants as cons     #Importing constants sublibrary as cons from Scipy library\n",
    "df=pd.read_csv(\"https://raw.githubusercontent.com/AnudipAE/DANLC/master/radius_data.csv\")     #Reading csv file\n",
    "\n",
    "df['Area']= df['Radius']**2 *cons.pi     #Calculating the Area of circle and storing it in a new column named Area\n",
    "print(df.head())     #Printing first 5 records\n",
    "df.to_csv(\"radius_data1.csv\",index=False)     #Saving the calculated result into a new csv file"
   ]
  },
  {
   "cell_type": "code",
   "execution_count": 43,
   "id": "b2f8c64e-c90e-4596-b3e4-0627e471e5d0",
   "metadata": {},
   "outputs": [
    {
     "name": "stdout",
     "output_type": "stream",
     "text": [
      "First 5 Records:  \n",
      "\n",
      "       Name  Height (inches)  Height (cm)\n",
      "0  Person 1            60.03     152.4762\n",
      "1  Person 2            49.51     125.7554\n",
      "2  Person 3            82.97     210.7438\n",
      "3  Person 4            64.19     163.0426\n",
      "4  Person 5            54.42     138.2268\n"
     ]
    }
   ],
   "source": [
    "'''Write a python program to read the Inches from the below .csv file and then Convert Inches to Centimeters using SciPy Constants. After that display \n",
    "the first 5 records and also save the calculated result into a new csv file.'''\n",
    "\n",
    "import scipy     #Importing Scipy library\n",
    "import pandas as pd     #Importing pandas library as pd\n",
    "from scipy import constants as cons     #Importing constants sublibrary as cons from Scipy library\n",
    "df=pd.read_csv(\"https://raw.githubusercontent.com/AnudipAE/DANLC/master/people_heights.csv\")     #Reading csv file\n",
    "\n",
    "#Converting the Heights in Inches to Heights in Centimeters and storing it in a new column named Height (cm)\n",
    "df['Height (cm)']=df['Height (inches)']*cons.inch*100     \n",
    "print('First 5 Records: ','\\n')\n",
    "print(df.head())     #Printing first 5 records\n",
    "df.to_csv(\"people_heights1.csv\")     #Saving the calculated result into a new csv file"
   ]
  },
  {
   "cell_type": "code",
   "execution_count": 1,
   "id": "3983154f-b568-4b4b-b5b4-5116d4c3e765",
   "metadata": {},
   "outputs": [],
   "source": []
  }
 ],
 "metadata": {
  "kernelspec": {
   "display_name": "Python 3 (ipykernel)",
   "language": "python",
   "name": "python3"
  },
  "language_info": {
   "codemirror_mode": {
    "name": "ipython",
    "version": 3
   },
   "file_extension": ".py",
   "mimetype": "text/x-python",
   "name": "python",
   "nbconvert_exporter": "python",
   "pygments_lexer": "ipython3",
   "version": "3.11.5"
  }
 },
 "nbformat": 4,
 "nbformat_minor": 5
}
