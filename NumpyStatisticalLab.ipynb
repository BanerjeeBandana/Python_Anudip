{
 "cells": [
  {
   "cell_type": "code",
   "execution_count": 9,
   "id": "455926ca-5bd3-43fe-ac36-5e5223e377de",
   "metadata": {},
   "outputs": [
    {
     "name": "stdin",
     "output_type": "stream",
     "text": [
      " 4\n",
      " 3\n",
      " 2\n",
      " 8\n",
      " 9\n",
      " 5\n",
      " 4\n",
      " 12\n",
      " 34\n",
      " 25\n",
      " 78\n",
      " 3\n",
      " 23\n",
      " 12\n",
      " 67\n"
     ]
    }
   ],
   "source": [
    "#How to find the mean of every NumPy array in the given list?\n",
    "\n",
    "#Importing the Numpy module as np\n",
    "import numpy as np\n",
    "\n",
    "arr = np.array([])\n",
    "n = int(input())\n",
    "\n",
    "for i in range(n):\n",
    "    v = input()\n",
    "    arr = np.append(arr, v)\n",
    "#print(arr)\n",
    "\n",
    "arr1 = np.array([])\n",
    "n1 = int(input())\n",
    "for j in range(n1):\n",
    "    y = input()\n",
    "    arr1 = np.append(arr1, y)\n",
    "#print(arr1)\n",
    "\n",
    "arr2 = np.array([])\n",
    "n2 = int(input())\n",
    "for k in range(n2):\n",
    "    z = input()\n",
    "    arr2 = np.append(arr2, z)\n",
    "#print(arr2)"
   ]
  },
  {
   "cell_type": "markdown",
   "id": "68aa1c3f-db2e-405f-991d-5595ad639b2f",
   "metadata": {},
   "source": [
    "list=[arr([]), arr1([]), arr2([])]\n",
    "(L=[]\n",
    "\n",
    "#Condition to iterate through the list\n",
    "for i in range(len(list)):\n",
    "    #Store the mean of the arrays in the empty list\n",
    "    L.append(np.mean(list[i]))\n",
    "\n",
    "#Printing the outputs\n",
    "print(L)arr)\n",
    "\n",
    "\n",
    "\n"
   ]
  },
  {
   "cell_type": "code",
   "execution_count": null,
   "id": "7bab4835-9ece-43b8-91be-bf7f3fbcda0a",
   "metadata": {},
   "outputs": [],
   "source": [
    "#Taking multiple NumPy arrays in a list\n",
    "list = [np.array([3, 2, 8, 9]), np.array([4, 12, 34, 25, 78]), np.array([23, 12, 67])]\n",
    "\n",
    "#Creating an empty list to store our result\n",
    "L=[]\n",
    "\n",
    "#Condition to iterate through the list\n",
    "for i in range(len(list)):\n",
    "    #Store the mean of the arrays in the empty list\n",
    "    L.append(np.mean(list[i]))\n",
    "\n",
    "#Printing the outputs\n",
    "print(L)\n",
    "\n",
    "#Output\n",
    "#[5.5, 30.6, 34.0]"
   ]
  },
  {
   "cell_type": "code",
   "execution_count": 16,
   "id": "c04ca20d-212f-4ce2-9cc9-9310e30ecd42",
   "metadata": {},
   "outputs": [
    {
     "name": "stdout",
     "output_type": "stream",
     "text": [
      "12.576167937809991\n"
     ]
    }
   ],
   "source": [
    "#Compute the standard deviation of the NumPy array\n",
    "\n",
    "#Importing the Numpy module as np\n",
    "import numpy as np\n",
    "\n",
    "#Taking a predefined array\n",
    "arr = [20, 2, 7, 1, 34]\n",
    "\n",
    "#Storing the standard deviation of the array in a variable\n",
    "Std_Dev=np.std(arr)\n",
    "\n",
    "#Printing the output\n",
    "print(Std_Dev)\n",
    "\n",
    "#Output\n",
    "#12.576167937809991"
   ]
  }
 ],
 "metadata": {
  "kernelspec": {
   "display_name": "Python 3 (ipykernel)",
   "language": "python",
   "name": "python3"
  },
  "language_info": {
   "codemirror_mode": {
    "name": "ipython",
    "version": 3
   },
   "file_extension": ".py",
   "mimetype": "text/x-python",
   "name": "python",
   "nbconvert_exporter": "python",
   "pygments_lexer": "ipython3",
   "version": "3.11.5"
  }
 },
 "nbformat": 4,
 "nbformat_minor": 5
}
