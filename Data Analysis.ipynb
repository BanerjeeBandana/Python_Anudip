{
 "cells": [
  {
   "cell_type": "code",
   "execution_count": 53,
   "id": "3f7b18b9-9f6c-4493-bd4d-83c29290f31c",
   "metadata": {},
   "outputs": [
    {
     "name": "stdout",
     "output_type": "stream",
     "text": [
      "Original  DataFrame: \n",
      "   school_code class            name  age  height  weight  address\n",
      "0        s001     V  Alberto Franco   12     173      35  street1\n",
      "1        s002    VI    Gino Mcneill   12     192      32  street2\n",
      "2        s003    VI     Ryan Parkes   13     186      33  street3\n",
      "3        s001    VI    Eesha Hinton   13     167      30  street1\n",
      "4        s002     V    Gino Mcneill   14     151      31  street2\n",
      "5        s004    VI    David Parkes   12     159      32  street4 \n",
      "\n",
      "Class wise No. of students Count: \n",
      " class\n",
      "V     2\n",
      "VI    4\n",
      "Name: name, dtype: int64\n"
     ]
    },
    {
     "data": {
      "text/plain": [
       "<Axes: xlabel='class'>"
      ]
     },
     "execution_count": 53,
     "metadata": {},
     "output_type": "execute_result"
    },
    {
     "data": {
      "image/png": "[encoded data removed]",
      "text/plain": [
       "<Figure size 600x400 with 1 Axes>"
      ]
     },
     "metadata": {},
     "output_type": "display_data"
    }
   ],
   "source": [
    "'''Write a Pandas program to split the following data frame into groups based on Class and count the number of students in that particular class.Also \n",
    "generate a bar chart based on the result and explain the conclusion.\n",
    "Input:\n",
    "student_data = pd.DataFrame({\n",
    "'school_code': ['s001','s002','s003','s001','s002','s004'],\n",
    "'class': ['V', 'VI', 'VI', 'VI', 'V', 'VI'],\n",
    "'name': ['Alberto Franco','Gino Mcneill','Ryan Parkes', 'Eesha Hinton', 'Gino Mcneill','David Parkes'],\n",
    "'age': [12, 12, 13, 13, 14, 12],\n",
    "'height': [173, 192, 186, 167, 151, 159],\n",
    "'weight': [35, 32, 33, 30, 31, 32],\n",
    "'address': ['street1', 'street2', 'street3', 'street1', 'street2', 'street4']},)'''\n",
    "\n",
    "import numpy as np     #Importing the Numpy library as np\n",
    "import pandas as pd\n",
    "import matplotlib.pyplot as plt     #Importing the Pyplot sub-module of Matplotlib library as plt\n",
    "student_data = pd.DataFrame({\n",
    "'school_code': ['s001','s002','s003','s001','s002','s004'],\n",
    "'class': ['V', 'VI', 'VI', 'VI', 'V', 'VI'],\n",
    "'name': ['Alberto Franco','Gino Mcneill','Ryan Parkes', 'Eesha Hinton', 'Gino Mcneill','David Parkes'],\n",
    "'age': [12, 12, 13, 13, 14, 12],\n",
    "'height': [173, 192, 186, 167, 151, 159],\n",
    "'weight': [35, 32, 33, 30, 31, 32],\n",
    "'address': ['street1', 'street2', 'street3', 'street1', 'street2', 'street4']},)     #Storing a sample dataframe\n",
    "print('Original  DataFrame:','\\n',student_data,'\\n')\n",
    "\n",
    "#Splitting the DataFrame into groups based on Class and count the number of students in that particular class\n",
    "print('Class wise No. of students Count:','\\n',student_data.groupby('class')['name'].count())     \n",
    "student_data.groupby('class').size().plot(kind='bar',figsize=(6,4))     #Generating the bar chart based on the result"
   ]
  },
  {
   "cell_type": "markdown",
   "id": "67977bbe-ed33-4089-a56e-41f4236d1b90",
   "metadata": {},
   "source": [
    "Most of the students are studying in class VI and others are studying in class V."
   ]
  }
 ],
 "metadata": {
  "kernelspec": {
   "display_name": "Python 3 (ipykernel)",
   "language": "python",
   "name": "python3"
  },
  "language_info": {
   "codemirror_mode": {
    "name": "ipython",
    "version": 3
   },
   "file_extension": ".py",
   "mimetype": "text/x-python",
   "name": "python",
   "nbconvert_exporter": "python",
   "pygments_lexer": "ipython3",
   "version": "3.11.5"
  }
 },
 "nbformat": 4,
 "nbformat_minor": 5
}
