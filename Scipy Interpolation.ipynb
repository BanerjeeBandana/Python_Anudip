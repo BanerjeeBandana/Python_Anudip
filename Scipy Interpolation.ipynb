{
 "cells": [
  {
   "cell_type": "code",
   "execution_count": 39,
   "id": "22c73c3d-df95-4452-a2fe-bab350427e51",
   "metadata": {},
   "outputs": [
    {
     "name": "stdout",
     "output_type": "stream",
     "text": [
      "Original DataFrame:\n",
      "    Math  English  Hindi  Science\n",
      "0  12.0      4.0   20.0     14.0\n",
      "1   4.0      3.0   16.0      3.0\n",
      "2   7.0     57.0    NaN      NaN\n",
      "3   NaN      3.0    3.0      NaN\n",
      "4   2.0      NaN    8.0      6.0\n",
      "\n",
      "DataFrame after filling missing values:\n",
      "    Math  English  Hindi  Science\n",
      "0  12.0      4.0   20.0     14.0\n",
      "1   4.0      3.0   16.0      3.0\n",
      "2   7.0     57.0    9.5      4.0\n",
      "3   4.5      3.0    3.0      5.0\n",
      "4   2.0      3.0    8.0      6.0\n"
     ]
    }
   ],
   "source": [
    "'''Write a python program using pandas Interpolation to fill in missing values in the data frame.\n",
    "df = pd.DataFrame({\"Math\":[12, 4, 7, None, 2],\n",
    "\"English\":[4, 3, 57, 3, None],\n",
    "\"Hindi\":[20, 16, None, 3, 8],\n",
    "\"Science\":[14, 3, None, None, 6]})'''\n",
    "\n",
    "import pandas as pd     #Importing pandas library as pd\n",
    "\n",
    "df = pd.DataFrame({\"Math\":[12, 4, 7, None, 2],\n",
    "\"English\":[4, 3, 57, 3, None],\n",
    "\"Hindi\":[20, 16, None, 3, 8],\n",
    "\"Science\":[14, 3, None, None, 6]})     #Storing a sample dataframe\n",
    "\n",
    "df_interpolated=df.interpolate()     #Interpolate missing values\n",
    "\n",
    "print('Original DataFrame:\\n',df,)     #Printing the original DataFrame\n",
    "print('\\nDataFrame after filling missing values:\\n',df_interpolated)     #Printing the interpolated values"
   ]
  },
  {
   "cell_type": "code",
   "execution_count": 44,
   "id": "61da887d-73c6-435d-87db-ce7536d2b0df",
   "metadata": {},
   "outputs": [
    {
     "name": "stderr",
     "output_type": "stream",
     "text": [
      "C:\\Users\\Bandana\\AppData\\Local\\Temp\\ipykernel_15560\\275017893.py:18: FutureWarning: DataFrame.interpolate with object dtype is deprecated and will raise in a future version. Call obj.infer_objects(copy=False) before interpolating instead.\n",
      "  df_interpolated=df.interpolate()     #Interpolate missing values\n"
     ]
    },
    {
     "name": "stdout",
     "output_type": "stream",
     "text": [
      "Original DataFrame:\n",
      "      Subject  Student_A  Student_B  Student_C\n",
      "0       Math       80.0       90.0       80.0\n",
      "1    Physics       85.0        NaN       88.0\n",
      "2  Chemistry        NaN       75.0        NaN\n",
      "3    Biology       70.0       85.0       78.0\n",
      "\n",
      "DataFrame after Interpolation:\n",
      "      Subject  Student_A  Student_B  Student_C\n",
      "0       Math       80.0       90.0       80.0\n",
      "1    Physics       85.0       82.5       88.0\n",
      "2  Chemistry       77.5       75.0       83.0\n",
      "3    Biology       70.0       85.0       78.0\n"
     ]
    },
    {
     "data": {
      "image/png": "[encoded data removed]",
      "text/plain": [
       "<Figure size 640x480 with 1 Axes>"
      ]
     },
     "metadata": {},
     "output_type": "display_data"
    }
   ],
   "source": [
    "'''Write a python program using Interpolation to fill in missing values in the data frame. Then generate a subject wise highest score in the form of a \n",
    "bar chart.\n",
    "data = {\n",
    "'Subject': ['Math', 'Physics', 'Chemistry', 'Biology'],\n",
    "'Student_A': [80, 85, np.nan, 70],\n",
    "'Student_B': [90, np.nan, 75, 85],\n",
    "'Student_C': [80, 88, np.nan, 78]}'''\n",
    "\n",
    "import numpy as np     #Importing the Numpy library as np\n",
    "import pandas as pd     #Importing pandas library as pd\n",
    "import matplotlib.pyplot as plt     #Importing the Pyplot sub-module of Matplotlib library as plt\n",
    "data = {\n",
    "'Subject': ['Math', 'Physics', 'Chemistry', 'Biology'],\n",
    "'Student_A': [80, 85, np.nan, 70],\n",
    "'Student_B': [90, np.nan, 75, 85],\n",
    "'Student_C': [80, 88, np.nan, 78]}     #Storing a sample dataframe\n",
    "df=pd.DataFrame(data)     #Create DataFrame\n",
    "df_interpolated=df.interpolate()     #Interpolate missing values\n",
    "print('Original DataFrame:\\n',df)     #Printing the original DataFrame\n",
    "print('\\nDataFrame after Interpolation:\\n',df_interpolated)     #Printing the interpolated values\n",
    "highest_scores=df_interpolated.drop('Subject',axis=1).max(axis=1)     #Calculate subject-wise highest scores\n",
    "colors=['blue','red','green','yellow']     #Assigning different colours to different bars and storing them in a variable\n",
    "'''Plotting the bar chart where interpolated DataFrame and subject-wise highest scores are the x-axis and y-axis of the chart,the colour is already \n",
    "assigned and the edge colour is black'''\n",
    "plt.bar(df_interpolated['Subject'],highest_scores,color=colors,edgecolor='black')     \n",
    "plt.xlabel('Subjects ----->')     #Providing the xlabel and ylabel of the chart\n",
    "plt.ylabel('Highest Score ----->')\n",
    "plt.title('Subject-Wise Highest Scores')     #The title of the chart\n",
    "plt.show()     #Showing the chart"
   ]
  },
  {
   "cell_type": "markdown",
   "id": "8acf45ab-be82-44ba-8047-15a565d430f0",
   "metadata": {},
   "source": [
    "Out of all the subjects, Maths is the highest scored subject. Whereas, Chemistry is the least scored subject. Students need to improve their Physics marks and they also need to give attention to Biology."
   ]
  },
  {
   "cell_type": "markdown",
   "id": "e8b9ec52-b61f-4def-9f23-6b1c7f6eff7a",
   "metadata": {},
   "source": []
  },
  {
   "cell_type": "code",
   "execution_count": null,
   "id": "e84149fa-98b1-45e6-8394-61de29e9114d",
   "metadata": {},
   "outputs": [],
   "source": []
  }
 ],
 "metadata": {
  "kernelspec": {
   "display_name": "Python 3 (ipykernel)",
   "language": "python",
   "name": "python3"
  },
  "language_info": {
   "codemirror_mode": {
    "name": "ipython",
    "version": 3
   },
   "file_extension": ".py",
   "mimetype": "text/x-python",
   "name": "python",
   "nbconvert_exporter": "python",
   "pygments_lexer": "ipython3",
   "version": "3.11.5"
  }
 },
 "nbformat": 4,
 "nbformat_minor": 5
}
